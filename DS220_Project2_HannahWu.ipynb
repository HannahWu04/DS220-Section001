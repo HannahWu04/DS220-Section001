{
 "cells": [
  {
   "cell_type": "markdown",
   "id": "7e464ab4-4f9b-4abe-b5c2-a1af75f7f993",
   "metadata": {},
   "source": [
    "# DS 220 — Project #2 on Data Analysis with Python\n",
    "## Created by: Hannah Wu"
   ]
  },
  {
   "cell_type": "markdown",
   "id": "c868b5f8-5b25-49da-8443-f34e74822467",
   "metadata": {},
   "source": [
    "__Detailed Process Steps for a Quality Data Analysis Outcome__\n",
    " - Building an Understanding of the Problem Statement\n",
    " - Building an Understanding of the Dataset\n",
    " - Importing the dataset into a Pandas DataFrame\n",
    " - Exploring, selecting, cleaning, and preparing the data\n",
    " - Performing the data analysis and plotting the summary"
   ]
  },
  {
   "cell_type": "markdown",
   "id": "72773416-7464-4335-92a9-a98bea355049",
   "metadata": {},
   "source": [
    "__Objectives__ \n",
    " - Understanding how to solve real-time data analysis problems\n",
    " - Reading and analyzing the data from an external file\n",
    " - Finding answers by analyzing the data and plotting the results"
   ]
  },
  {
   "cell_type": "markdown",
   "id": "fe66dcad-5c7c-438d-827a-8e0730e4fd5f",
   "metadata": {},
   "source": [
    "__Understanding the Dataset__\n",
    " - The dataset will be taken from Data.gov (link for download: https://catalog.data.gov/dataset/conditions-contributing-to-deaths-involving-coronavirus-disease-2019-covid-19-by-age-group)\n",
    " - This dataset contains data from different states within the U.S. and shows health conditions and contributing causes and contributing causes mentioned in conjunction with deaths involving COVID-19 by age groups. Data started on 01/01/2020, last updated on 09/24/2023.\n",
    " - We need to analyze the data to get the answers for the following points and plot the results:\n",
    "    1. List all the states based on their total number of COVID-19 deaths\n",
    "    2. List the top 1 state that has the highest total number of COVID-19 deaths in each month of 2023\n",
    "    3. List all condition groups based on their total number of COVID-19 deaths\n",
    "    4. List all age groups based on their total number of COVID-19 deaths\n",
    "    5. Top 3 conditions in the respiratory diseases condition group that have the highest total number of COVID-19 deaths\n",
    "    6. Top 3 conditions in the circulatory diseases condition group that have the highest total number of COVID-19 deaths in July of 2023"
   ]
  },
  {
   "cell_type": "markdown",
   "id": "38d119ea-1c25-48ff-99b2-a3fe2c5d073b",
   "metadata": {},
   "source": [
    "__Step-by-step example to perform the data analysis on the given dataset__ <br>\n",
    "With the knowledge about our dataset along with the problem statement and points we need to analyze, here’s the step-by-step process we will follow to get the pieces of information we need from the given dataset:\n",
    "1. Importing the dataset into DataFrame:"
   ]
  },
  {
   "cell_type": "markdown",
   "id": "bc8f5e1b-4c11-4138-a314-2bb3ca95814f",
   "metadata": {},
   "source": [
    "&emsp;&emsp;&emsp;&emsp;A. The first task is to import the required libraries (in this case we will need Pandas and Matplotlib), here’s the coding"
   ]
  },
  {
   "cell_type": "code",
   "execution_count": null,
   "id": "1c0e3826-feef-4c7d-922a-b9e43c067d75",
   "metadata": {},
   "outputs": [],
   "source": [
    "import pandas as pd\n",
    "import matplotlib.pyplot as plt"
   ]
  },
  {
   "cell_type": "markdown",
   "id": "37000194-b7fe-4c3f-bc72-bb46b091881a",
   "metadata": {},
   "source": [
    "&emsp;&emsp;&emsp;&emsp;B. Next, we will import our dataset CSV into the Pandas DataFrame"
   ]
  },
  {
   "cell_type": "code",
   "execution_count": null,
   "id": "30c36e9a-0aa7-43da-9959-5275ad157ade",
   "metadata": {},
   "outputs": [],
   "source": [
    "data = pd.read_csv(\"Conditions_Contributing_to_COVID-19_Deaths__by_State_and_Age__Provisional_2020-2023.csv\")"
   ]
  },
  {
   "cell_type": "markdown",
   "id": "aeb54f0a-81a5-4282-ab2a-1f177b5185ce",
   "metadata": {},
   "source": [
    "2. Exploring, selecting, cleaning, and preparing the data:"
   ]
  },
  {
   "cell_type": "markdown",
   "id": "2f449a8a-537a-4772-aaa6-833a59165feb",
   "metadata": {},
   "source": [
    "&emsp;&emsp;&emsp;&emsp;A. Check out the columns by using `data.columns` to get all columns from the dataframe data"
   ]
  },
  {
   "cell_type": "code",
   "execution_count": null,
   "id": "db89593b-9246-4687-bf0e-706acdf6d080",
   "metadata": {},
   "outputs": [],
   "source": [
    "data.columns"
   ]
  },
  {
   "cell_type": "markdown",
   "id": "3c1fdb85-1abb-4d2c-94fd-284cb4dce22b",
   "metadata": {},
   "source": [
    "&emsp;&emsp;&emsp;&emsp;B. Display the top 5 rows from the DataFrame data by using `data.head()`"
   ]
  },
  {
   "cell_type": "code",
   "execution_count": null,
   "id": "833e4752-9e0a-4a45-9392-5300f132460f",
   "metadata": {},
   "outputs": [],
   "source": [
    "data.head()"
   ]
  },
  {
   "cell_type": "markdown",
   "id": "e919d0a9-0ea0-4317-9750-0179ee724728",
   "metadata": {},
   "source": [
    "&emsp;&emsp;&emsp;&emsp;C. We can also try `data.tail()` to display the bottom five rows of the data frame data"
   ]
  },
  {
   "cell_type": "code",
   "execution_count": null,
   "id": "54a3bb51-0d1c-4471-9e7b-ea25df9c4a6c",
   "metadata": {},
   "outputs": [],
   "source": [
    "data.tail()"
   ]
  },
  {
   "cell_type": "markdown",
   "id": "7a3a9811-3b57-40c0-a5e2-13ed793e186b",
   "metadata": {},
   "source": [
    "&emsp;&emsp;&emsp;&emsp;D. From the above information we can see there’s a lots of rows and columns in the table, to have a cleaner look, we can use `data.shape` to display the shape of the DataFrame data; it has 239486 rows and 14 columns"
   ]
  },
  {
   "cell_type": "code",
   "execution_count": null,
   "id": "4c823a23-2630-4802-ae80-c9456f40d6d7",
   "metadata": {},
   "outputs": [],
   "source": [
    "data.shape"
   ]
  },
  {
   "cell_type": "markdown",
   "id": "5ea4c5e7-8255-4f24-81fa-224dab8a7621",
   "metadata": {},
   "source": [
    "&emsp;&emsp;&emsp;&emsp;E. When we want to solve our problems, we don’t necessary need all of the rows and columns at the same time. So, it is better if we select only a subset of the data we need. In the following coding snippet, we select two sublists that filtered rows based on conditions"
   ]
  },
  {
   "cell_type": "code",
   "execution_count": null,
   "id": "c42e454e-0e8e-49c9-a011-0d23a014b0a9",
   "metadata": {},
   "outputs": [],
   "source": [
    "# Subset Grouped by Total\n",
    "Total = data[(data['Group'] == 'By Total')]\n",
    "# Subset of Year 2023 Including Months\n",
    "Year_23 = data[(data['Group'] == 'By Month') & (data['Year'] == 2023)]"
   ]
  },
  {
   "cell_type": "markdown",
   "id": "1293c87d-41b3-496a-9c20-d7a38b0805cf",
   "metadata": {},
   "source": [
    "&emsp;&emsp;&emsp;&emsp;F. From here, we will be dropping the columns that are irrelevant to our problem solving using the `drop()` method"
   ]
  },
  {
   "cell_type": "code",
   "execution_count": null,
   "id": "c1d4cf7b-4741-4ba6-be2e-5f50c679303c",
   "metadata": {},
   "outputs": [],
   "source": [
    "# For the Total subset\n",
    "Total = Total.drop(columns=['Data As Of', 'Start Date', 'End Date', 'Group', \n",
    "                            'Year', 'Month', 'ICD10_codes', 'Number of Mentions', 'Flag'])\n",
    "# For the Year 2023 subset\n",
    "Year_23 = Year_23.drop(columns=['Data As Of', 'Start Date', 'End Date', 'Group', \n",
    "                                'Year', 'ICD10_codes', 'Age Group', 'Number of Mentions', 'Flag'])"
   ]
  },
  {
   "cell_type": "markdown",
   "id": "a5a3ee52-46bb-4586-8c49-98483f628131",
   "metadata": {},
   "source": [
    "&emsp;&emsp;&emsp;&emsp;G. Next we use the `isnull()` method to check the null values present in the data frame, that’s the start of data cleaning"
   ]
  },
  {
   "cell_type": "code",
   "execution_count": null,
   "id": "3a9490c2-b23b-4ee2-a1cd-3a8d28047030",
   "metadata": {},
   "outputs": [],
   "source": [
    "Total.isnull().sum()"
   ]
  },
  {
   "cell_type": "code",
   "execution_count": null,
   "id": "5c8a4b4f-39ea-4cde-8d7c-de2ac858c43e",
   "metadata": {},
   "outputs": [],
   "source": [
    "Year_23.isnull().sum()"
   ]
  },
  {
   "cell_type": "markdown",
   "id": "e76290da-51b5-480a-9361-b6b3c55cb19a",
   "metadata": {},
   "source": [
    "&emsp;&emsp;&emsp;&emsp;H. As we can see, there are rows with null values. The following coding snippet contains the code to drop the rows that have null values in the **COVID-19 Deaths** for the Total subset, and drop the rows that have null values in the **Condition Group**, **Condition**, and **COVID-19 Deaths** for the Year_23 subset"
   ]
  },
  {
   "cell_type": "code",
   "execution_count": null,
   "id": "dbfb8801-89dd-4537-b4c1-f62af2b65e4d",
   "metadata": {},
   "outputs": [],
   "source": [
    "Total.dropna(how = 'all', subset = ['COVID-19 Deaths'], inplace=True)\n",
    "Total.isnull().sum()"
   ]
  },
  {
   "cell_type": "code",
   "execution_count": null,
   "id": "fe964eac-0922-4595-8138-0e53359d81e7",
   "metadata": {},
   "outputs": [],
   "source": [
    "Year_23.dropna(subset = ['Condition Group', 'Condition', 'COVID-19 Deaths'], inplace=True)\n",
    "Year_23.isnull().sum()"
   ]
  },
  {
   "cell_type": "markdown",
   "id": "25c8fe0c-21ec-4d73-9500-78a2b0311de4",
   "metadata": {},
   "source": [
    "&emsp;&emsp;&emsp;&emsp;I. After checking for null values, we should check for the duplicates using the `duplicated()` method. In the following coding snippet, we can see there’s no duplicate found in the Total subset, but there are duplicates in the Year_23 subset"
   ]
  },
  {
   "cell_type": "code",
   "execution_count": null,
   "id": "bced36c0-a067-4cf4-9a21-498ee91d4fe5",
   "metadata": {},
   "outputs": [],
   "source": [
    "Total.duplicated().sum()"
   ]
  },
  {
   "cell_type": "code",
   "execution_count": null,
   "id": "ddf05872-e078-4205-a4b7-091b2865a7f6",
   "metadata": {},
   "outputs": [],
   "source": [
    "Year_23.duplicated().sum()"
   ]
  },
  {
   "cell_type": "markdown",
   "id": "b12cbbd5-be97-4c79-9444-a355604a4bde",
   "metadata": {},
   "source": [
    "&emsp;&emsp;&emsp;&emsp;J. To remove the duplicates, we can use the `drop_duplicates()` method. Note that without a list of the duplicate columns this will only drop entries with a duplicity in the values for all columns, but if we pass the essential columns list, it will drop records that show duplicity in values for specified columns only."
   ]
  },
  {
   "cell_type": "code",
   "execution_count": null,
   "id": "93b2d11f-4fdd-4ff9-be38-f060c24ef774",
   "metadata": {},
   "outputs": [],
   "source": [
    "Year_23.drop_duplicates(inplace=True)\n",
    "Year_23.duplicated().sum()"
   ]
  },
  {
   "cell_type": "markdown",
   "id": "c28a7f39-4c9c-44f6-b992-36c2969080a6",
   "metadata": {},
   "source": [
    "&emsp;&emsp;&emsp;&emsp;K. Now the data is cleaned, let’s take a look at the datatypes of the columns"
   ]
  },
  {
   "cell_type": "code",
   "execution_count": null,
   "id": "a66dd57e-9057-47c8-ad52-ebf11a06a940",
   "metadata": {},
   "outputs": [],
   "source": [
    "Total.dtypes"
   ]
  },
  {
   "cell_type": "code",
   "execution_count": null,
   "id": "4b9c5b52-00cb-4dc2-b7e8-99508e45c862",
   "metadata": {},
   "outputs": [],
   "source": [
    "Year_23.dtypes"
   ]
  },
  {
   "cell_type": "markdown",
   "id": "aefdcead-0d4a-4ff7-b9b3-f345f0f8c0b6",
   "metadata": {},
   "source": [
    "&emsp;&emsp;&emsp;&emsp;L. Using all the above information, we can now sort the DataFrame in the ways we need to solve our problem. Just for example, here’s the Total subset sorted by the column **State**, and Year_23 subset sorted by the column **Month**"
   ]
  },
  {
   "cell_type": "code",
   "execution_count": null,
   "id": "a93ee8e0-fecb-4581-bf7d-0ec0a926b27a",
   "metadata": {},
   "outputs": [],
   "source": [
    "Total.sort_values('State')"
   ]
  },
  {
   "cell_type": "code",
   "execution_count": null,
   "id": "910c7016-68e0-4276-976b-0a81dbf75e46",
   "metadata": {},
   "outputs": [],
   "source": [
    "Year_23.sort_values('Month')"
   ]
  },
  {
   "cell_type": "markdown",
   "id": "bafd6f84-1a99-491f-bb0c-354efa3255c7",
   "metadata": {},
   "source": [
    "&emsp;&emsp;&emsp;&emsp;M. After exploring sorting method, let’s set the column as an index in the following coding snippet. Noting the sorting method didn't change the original table "
   ]
  },
  {
   "cell_type": "code",
   "execution_count": null,
   "id": "af8543c4-361f-4f90-9d3d-38a3e1c5a39c",
   "metadata": {},
   "outputs": [],
   "source": [
    "Total.set_index('State', inplace=True)\n",
    "Total"
   ]
  },
  {
   "cell_type": "code",
   "execution_count": null,
   "id": "6e7fa25f-622c-4d85-a190-0d99c8c2c1fd",
   "metadata": {},
   "outputs": [],
   "source": [
    "Year_23.set_index('Month', inplace=True)\n",
    "Year_23"
   ]
  },
  {
   "cell_type": "markdown",
   "id": "b3faa887-8369-4ce4-97d6-1647143696a3",
   "metadata": {},
   "source": [
    "&emsp;&emsp;&emsp;&emsp;N. Before we dive into the data analysis of our problem, the last thing we want to explore is how to plot the data. The following is a coding snippet for how to plot different types of graph"
   ]
  },
  {
   "cell_type": "code",
   "execution_count": null,
   "id": "02cab357-f8d5-4073-99bd-c56846b0f832",
   "metadata": {},
   "outputs": [],
   "source": [
    "# Example of line graph\n",
    "# .loc method locate rows from the Total where the index is equal to 'California'\n",
    "california_data = Total.loc['California']\n",
    "# Remove rows with 'All Ages' as the 'Age Group', and use only rows with 'COVID-19' as the 'Condition Group'\n",
    "california_data = california_data[(california_data['Age Group'] != 'All Ages') & (california_data['Condition Group'] == 'COVID-19')]\n",
    "# Reset the index to 'Age Group'\n",
    "california_data.set_index('Age Group', inplace=True)\n",
    "# A line graph, figure size 12 to 6, line color blue\n",
    "california_data['COVID-19 Deaths'].plot(kind='line', figsize=(12, 6), color='blue') \n",
    "# Sets the label for the x-axis (horizontal axis) to 'Age Group'\n",
    "plt.xlabel('Age Group') \n",
    "# Sets the label for the y-axis (vertical axis) to 'COVID-19 Deaths'\n",
    "plt.ylabel('COVID-19 Deaths') \n",
    "# Sets the title of the plot to 'COVID-19 Deaths Trend in California by Age Group'\n",
    "plt.title('COVID-19 Deaths Trend in California by Age Group') \n",
    "# Adds a grid to the plot for better readability\n",
    "plt.grid(True) \n",
    "plt.show()"
   ]
  },
  {
   "cell_type": "code",
   "execution_count": null,
   "id": "912764cd-7175-4a71-8025-f5126d3136b2",
   "metadata": {},
   "outputs": [],
   "source": [
    "# Example of the same data as bar graph\n",
    "california_data['COVID-19 Deaths'].plot(kind='barh', figsize=(12, 6), color='blue')"
   ]
  },
  {
   "cell_type": "code",
   "execution_count": null,
   "id": "24654f49-4638-4bb2-bf63-168e1c7be7da",
   "metadata": {},
   "outputs": [],
   "source": [
    "# Example of the same data as pie graph\n",
    "california_data['COVID-19 Deaths'].plot(kind='pie', figsize=(12, 12))"
   ]
  },
  {
   "cell_type": "markdown",
   "id": "55eb9969-3241-4e3a-9ddb-ae897fa58927",
   "metadata": {},
   "source": [
    "3. Performing the data analysis and plotting the summary of them, now is the time to solve our problems:"
   ]
  },
  {
   "cell_type": "markdown",
   "id": "8bdb5c96-2f5d-4878-a184-d2dba9347782",
   "metadata": {},
   "source": [
    "&emsp;&emsp;&emsp;&emsp;A. List all the states based on their total number of COVID-19 deaths"
   ]
  },
  {
   "cell_type": "code",
   "execution_count": null,
   "id": "3151661f-1ede-4aac-8742-ad27c28820b9",
   "metadata": {},
   "outputs": [],
   "source": [
    "# Conditions: All age group, 'COVID-19' as the 'Condition Group', index is not 'United States'\n",
    "Total_Deaths = Total[(Total['Age Group'] == 'All Ages') & (Total['Condition Group'] == 'COVID-19') & (Total.index != 'United States')]\n",
    "# Sort the list with the number of total deaths\n",
    "Total_Deaths_by_State = Total_Deaths.sort_values('COVID-19 Deaths')\n",
    "# Show the list with only the total death number\n",
    "print(Total_Deaths_by_State['COVID-19 Deaths'])"
   ]
  },
  {
   "cell_type": "code",
   "execution_count": null,
   "id": "c6b46f61-2b2a-4196-8fd4-79aab1ec3aa2",
   "metadata": {},
   "outputs": [],
   "source": [
    "# Plot the bar graph\n",
    "Total_Deaths_by_State['COVID-19 Deaths'].plot(kind='bar', figsize=(12, 6), color='blue')\n",
    "# Sets the label for the x-axis (horizontal axis) to 'State'\n",
    "plt.xlabel('State') \n",
    "# Sets the label for the y-axis (vertical axis) to 'COVID-19 Deaths'\n",
    "plt.ylabel('COVID-19 Deaths') \n",
    "# Sets the title of the plot to 'States Listed by COVID-19 Deaths'\n",
    "plt.title('States Listed by COVID-19 Deaths') \n",
    "# Adds a grid to the plot for better readability\n",
    "plt.grid(True) \n",
    "plt.show()"
   ]
  },
  {
   "cell_type": "markdown",
   "id": "5b3d5e6f-c4ec-4002-820e-750550674c9a",
   "metadata": {},
   "source": [
    "&emsp;&emsp;&emsp;&emsp;B. List the top 1 state that has the highest total number of COVID-19 deaths in each month of 2023"
   ]
  },
  {
   "cell_type": "code",
   "execution_count": null,
   "id": "f0f98245-b402-4942-a7d3-a673479a42c1",
   "metadata": {},
   "outputs": [],
   "source": [
    "# Conditions: 'COVID-19' as the 'Condition Group', 'State' is not 'United States'\n",
    "Total_Deaths = Year_23[(Year_23['Condition Group'] == 'COVID-19') & (Year_23['State'] != 'United States')]\n",
    "# Use for loop to avoid manual entry for each month, and because there's 9 months in the data right now, the range is (1,10) \n",
    "for i in range (1,10):\n",
    "    # Check for the max amount of deaths in each month using .loc\n",
    "    Highest_state_2023 = Total_Deaths.loc[i].groupby('State')['COVID-19 Deaths'].sum().idxmax()\n",
    "    # Show the list\n",
    "    print(Highest_state_2023, 'has the highest total number of COVID-19 deaths in month', i, 'of 2023')"
   ]
  },
  {
   "cell_type": "code",
   "execution_count": null,
   "id": "d769c87c-eb02-407d-9d92-c792e0f56bb5",
   "metadata": {},
   "outputs": [],
   "source": [
    "# Create an empty list to store data for each month\n",
    "data_for_pie = []\n",
    "# Use for loop to iterate through each month\n",
    "for i in range(1, 10):\n",
    "    # Filter data for the specific month\n",
    "    monthly_data = Total_Deaths.loc[i]\n",
    "    # Find the state with the highest total number of COVID-19 deaths\n",
    "    highest_state = monthly_data.groupby('State')['COVID-19 Deaths'].sum().idxmax()\n",
    "    # Append data to the list\n",
    "    data_for_pie.append((f'Month {i}', highest_state))\n",
    "# Convert the list to a DataFrame for easier plotting\n",
    "df_for_pie = pd.DataFrame(data_for_pie, columns=['Month', 'State'])\n",
    "# Plotting the data as a pie chart\n",
    "plt.figure(figsize=(12, 12))\n",
    "plt.pie(df_for_pie.groupby('State').size(), labels=df_for_pie['State'].unique(), autopct='%1.1f%%', startangle=140)\n",
    "plt.title('State with the Highest Total COVID-19 Deaths Each Month in 2023')\n",
    "# Show the plot\n",
    "plt.show()"
   ]
  },
  {
   "cell_type": "markdown",
   "id": "e7972df2-d62e-4c32-9364-a4ec5b4a5674",
   "metadata": {},
   "source": [
    "&emsp;&emsp;&emsp;&emsp;C. List all condition groups based on their total number of COVID-19 deaths"
   ]
  },
  {
   "cell_type": "code",
   "execution_count": null,
   "id": "459c9362-96b0-4286-b16e-b0481609fcd1",
   "metadata": {},
   "outputs": [],
   "source": [
    "# Summing up COVID-19 deaths by condition group and sort in order\n",
    "Total_Deaths_by_Condition_Group = Total.groupby('Condition Group')['COVID-19 Deaths'].sum().sort_values()\n",
    "# Show the list\n",
    "print(Total_Deaths_by_Condition_Group)"
   ]
  },
  {
   "cell_type": "code",
   "execution_count": null,
   "id": "1e4e9107-2166-44dc-a02b-a6b6355f1e44",
   "metadata": {},
   "outputs": [],
   "source": [
    "# Plot the bar graph\n",
    "Total_Deaths_by_Condition_Group.plot(kind='bar', figsize=(12, 6), color='blue')\n",
    "plt.xlabel('Condition Group') \n",
    "# Sets the label for the y-axis (vertical axis) to 'COVID-19 Deaths'\n",
    "plt.ylabel('COVID-19 Deaths') \n",
    "# Sets the title of the plot to 'States Listed by COVID-19 Deaths'\n",
    "plt.title('Condition Groups Listed by COVID-19 Deaths') \n",
    "# Adds a grid to the plot for better readability\n",
    "plt.grid(True) \n",
    "plt.show()"
   ]
  },
  {
   "cell_type": "markdown",
   "id": "767e7cf9-c9be-4046-84bb-4d939e222cca",
   "metadata": {},
   "source": [
    "&emsp;&emsp;&emsp;&emsp;D. List all age groups based on their total number of COVID-19 deaths"
   ]
  },
  {
   "cell_type": "code",
   "execution_count": null,
   "id": "2c1a40c2-45df-486e-b9b3-77a89e829d61",
   "metadata": {},
   "outputs": [],
   "source": [
    "# Remove 'All Ages' from 'Age Group'\n",
    "Total_Deaths_by_Age_Group = Total[Total['Age Group'] != 'All Ages']\n",
    "# Summing up COVID-19 deaths by age group and sorting in order\n",
    "Total_Deaths_by_Age_Group = Total_Deaths_by_Age_Group.groupby('Age Group')['COVID-19 Deaths'].sum().sort_values()\n",
    "# Show the list\n",
    "print(Total_Deaths_by_Age_Group)"
   ]
  },
  {
   "cell_type": "code",
   "execution_count": null,
   "id": "bbca731f-576e-4da7-b0fc-e8ab4dddb7d6",
   "metadata": {},
   "outputs": [],
   "source": [
    "# Plot the line graph\n",
    "Total_Deaths_by_Age_Group.plot(kind='line', figsize=(12, 6), color='blue')\n",
    "plt.xlabel('Age Group') \n",
    "# Sets the label for the y-axis (vertical axis) to 'COVID-19 Deaths'\n",
    "plt.ylabel('COVID-19 Deaths') \n",
    "# Sets the title of the plot to 'States Listed by COVID-19 Deaths'\n",
    "plt.title('Age Groups Listed by COVID-19 Deaths') \n",
    "# Adds a grid to the plot for better readability\n",
    "plt.grid(True) \n",
    "plt.show()"
   ]
  },
  {
   "cell_type": "markdown",
   "id": "1c4e3be5-2793-4820-b749-98f7a4f9f768",
   "metadata": {},
   "source": [
    "&emsp;&emsp;&emsp;&emsp;E. Top 3 conditions in the respiratory diseases condition group that have the highest total number of COVID-19 deaths"
   ]
  },
  {
   "cell_type": "code",
   "execution_count": null,
   "id": "d31be3b6-21cb-4a49-a93d-1bff8a911251",
   "metadata": {},
   "outputs": [],
   "source": [
    "# Conditions: 'Condition Group' is 'Respiratory diseases'\n",
    "Respiratory_Conditions = Total[Total['Condition Group'] == 'Respiratory diseases']\n",
    "# Summing up COVID-19 deaths by condition and sort in order\n",
    "Respiratory_Conditions = Respiratory_Conditions.groupby('Condition')['COVID-19 Deaths'].sum().sort_values()\n",
    "# Show the bottom 3 of the list\n",
    "print(Respiratory_Conditions.tail(3))"
   ]
  },
  {
   "cell_type": "code",
   "execution_count": null,
   "id": "a6cd8ae0-68b4-4b8c-8689-e9e6957dbcf8",
   "metadata": {},
   "outputs": [],
   "source": [
    "# Plot the bar graph\n",
    "Respiratory_Conditions.tail(3).plot(kind='bar', figsize=(12, 6), color='blue')\n",
    "plt.xlabel('Respiratory Conditions') \n",
    "# Sets the label for the y-axis (vertical axis) to 'COVID-19 Deaths'\n",
    "plt.ylabel('COVID-19 Deaths') \n",
    "# Sets the title of the plot to 'States Listed by COVID-19 Deaths'\n",
    "plt.title('Top 3 Respiratory Diseases Condition with the Highest Total COVID-19 Deaths') \n",
    "# Adds a grid to the plot for better readability\n",
    "plt.grid(True) \n",
    "plt.show()"
   ]
  },
  {
   "cell_type": "markdown",
   "id": "1ed47d29-2b50-41a1-8e24-6c77e44f9ee2",
   "metadata": {},
   "source": [
    "&emsp;&emsp;&emsp;&emsp;F. Top 3 conditions in the circulatory diseases condition group that have the highest total number of COVID-19 deaths in July of 2023"
   ]
  },
  {
   "cell_type": "code",
   "execution_count": null,
   "id": "d271d9fb-625e-43db-bcb8-446fcb5c4414",
   "metadata": {},
   "outputs": [],
   "source": [
    "# Conditions: 'Condition Group' is 'Circulatory diseases', index is 7\n",
    "Circulatory_Conditions_July = Year_23[(Year_23['Condition Group'] == 'Circulatory diseases') & (Year_23.index == 7)]\n",
    "# Summing up COVID-19 deaths by condition and sort in order\n",
    "Circulatory_Conditions_July = Circulatory_Conditions_July.groupby('Condition')['COVID-19 Deaths'].sum().sort_values()\n",
    "# Show the bottom 3 of the list\n",
    "print(Circulatory_Conditions_July.tail(3))"
   ]
  },
  {
   "cell_type": "code",
   "execution_count": null,
   "id": "7c5680b9-d8a0-4ed8-aeee-b314d326c685",
   "metadata": {},
   "outputs": [],
   "source": [
    "# Plot the bar graph\n",
    "Circulatory_Conditions_July.tail(3).plot(kind='bar', figsize=(12, 6), color='blue')\n",
    "plt.xlabel('Circulatory Conditions') \n",
    "# Sets the label for the y-axis (vertical axis) to 'COVID-19 Deaths'\n",
    "plt.ylabel('COVID-19 Deaths') \n",
    "# Sets the title of the plot to 'States Listed by COVID-19 Deaths'\n",
    "plt.title('Top 3 Circulatory Diseases Conditions with Highest Total COVID-19 Deaths in July of 2023') \n",
    "# Adds a grid to the plot for better readability\n",
    "plt.grid(True) \n",
    "plt.show()"
   ]
  },
  {
   "cell_type": "markdown",
   "id": "af758431-17e8-4922-9be2-651b582032a8",
   "metadata": {},
   "source": [
    "__Conclusion__\n",
    " - In this data analysis project, the focus was on systematically addressing complexities associated with a dataset from Data.gov related to COVID-19 deaths in different U.S. states and age groups. The process involved comprehensive exploration, data importation, cleaning, and preparation using the Pandas library in Python. The dataset posed challenges, but the project demonstrated proficiency in handling data cleaning tasks and strategically selecting relevant subsets for analysis.\n",
    " - Key objectives included listing states based on COVID-19 deaths, identifying the top states with the highest deaths monthly in 2023, categorizing condition and age groups by their total COVID-19 deaths, and highlighting top conditions within specific groups. The project also showcased practical examples of data visualization using Matplotlib, including line graphs, bar graphs, and pie charts to enhance the interpretability of findings."
   ]
  }
 ],
 "metadata": {
  "kernelspec": {
   "display_name": "Python 3 (ipykernel)",
   "language": "python",
   "name": "python3"
  },
  "language_info": {
   "codemirror_mode": {
    "name": "ipython",
    "version": 3
   },
   "file_extension": ".py",
   "mimetype": "text/x-python",
   "name": "python",
   "nbconvert_exporter": "python",
   "pygments_lexer": "ipython3",
   "version": "3.10.13"
  }
 },
 "nbformat": 4,
 "nbformat_minor": 5
}
